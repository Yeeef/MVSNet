{
 "cells": [
  {
   "cell_type": "code",
   "execution_count": 14,
   "metadata": {},
   "outputs": [],
   "source": [
    "import cv2\n",
    "from matplotlib import pyplot as plt\n",
    "import os\n",
    "from os import path\n",
    "import re\n",
    "import numpy as np\n",
    "import shutil"
   ]
  },
  {
   "cell_type": "code",
   "execution_count": 2,
   "metadata": {},
   "outputs": [],
   "source": [
    "NEW_DIR_COLLECTIONS = [\n",
    "    '/media/yeeef/Seagate Expansion Drive/training_data/selected_images_1_camera_polygon',\n",
    "    '/media/yeeef/Seagate Expansion Drive/training_data/selected_images_2_camera_polygon',\n",
    "    '/media/yeeef/Seagate Expansion Drive/training_data/selected_images_3_camera_polygon',\n",
    "    '/media/yeeef/Seagate Expansion Drive/training_data/selected_images_4_camera_polygon',\n",
    "    '/media/yeeef/Seagate Expansion Drive/training_data/selected_images_5_camera_polygon',\n",
    "    '/media/yeeef/Seagate Expansion Drive/training_data/selected_images_6_camera_polygon',\n",
    "    '/media/yeeef/Seagate Expansion Drive/training_data/selected_images_8_camera_polygon',\n",
    "\n",
    "]\n",
    "BASE_DIR = NEW_DIR_COLLECTIONS[0]\n",
    "LOG_PATTERN = re.compile(r'(\\d+).log')\n"
   ]
  },
  {
   "cell_type": "code",
   "execution_count": 3,
   "metadata": {},
   "outputs": [],
   "source": [
    "group_dirs = list(os.scandir(BASE_DIR))"
   ]
  },
  {
   "cell_type": "code",
   "execution_count": 4,
   "metadata": {},
   "outputs": [],
   "source": [
    "demo_group_dir = group_dirs[0]\n",
    "log_dir = path.join(demo_group_dir.path, 'image', 'color_depth_log')\n",
    "demo_files = list(os.scandir(log_dir))\n",
    "img_files = [file for file in demo_files if path.splitext(file.name)[1] in ['.png', '.jpg']]\n",
    "label_log_files = [file for file in demo_files if path.splitext(file.name)[1] == '.log' and file.name != 'camera_params.log']"
   ]
  },
  {
   "cell_type": "code",
   "execution_count": 5,
   "metadata": {},
   "outputs": [
    {
     "data": {
      "text/plain": [
       "[<DirEntry '0.log'>,\n",
       " <DirEntry '1.log'>,\n",
       " <DirEntry '2.log'>,\n",
       " <DirEntry '3.log'>,\n",
       " <DirEntry '4.log'>]"
      ]
     },
     "execution_count": 5,
     "metadata": {},
     "output_type": "execute_result"
    }
   ],
   "source": [
    "label_log_files"
   ]
  },
  {
   "cell_type": "code",
   "execution_count": 6,
   "metadata": {},
   "outputs": [],
   "source": [
    "class LogFile(object):\n",
    "    \"\"\" log parser, come from plane_estimate.py \"\"\"\n",
    "    def __init__(self, log_id, content_lines):\n",
    "        self.log_id = log_id\n",
    "        self.content_lines = content_lines\n",
    "        self.num_lines = len(content_lines)\n",
    "        self.num_polygon = 0\n",
    "        self.polygons = []\n",
    "        self._file_ptr = 0\n",
    "\n",
    "    def _ptr_advance(self):\n",
    "        self._file_ptr += 1\n",
    "\n",
    "    def _ptr_advance_by(self, step):\n",
    "        self._file_ptr += step\n",
    "\n",
    "    def _is_eof(self):\n",
    "        if self._file_ptr > self.num_lines:\n",
    "            return True\n",
    "        else:\n",
    "            return False\n",
    "\n",
    "    def _ptr_line_content(self):\n",
    "        if not self._is_eof():\n",
    "            return self.content_lines[self._file_ptr]\n",
    "        else:\n",
    "            raise IOError('{} log, ptr {} exceeds eof!'.format(self.log_id, self._file_ptr))\n",
    "\n",
    "    def _parse_polygon_meta(self, meta_str):\n",
    "        fields = meta_str.split(' ')\n",
    "        polygon_id = fields[0].strip()\n",
    "        num_points = int(fields[1].strip())\n",
    "        return polygon_id, num_points\n",
    "\n",
    "    def _parse_polygon_info(self, num_points):\n",
    "        point_list = []\n",
    "        for i in range(num_points):\n",
    "            self._ptr_advance()\n",
    "            line = self._ptr_line_content()\n",
    "            fields = line.split(' ')\n",
    "            x = round(float(fields[0].lower()))\n",
    "            y = round(float(fields[1].lower()))\n",
    "            point_list.append((x, y))\n",
    "\n",
    "        return point_list\n",
    "\n",
    "    def parse_content(self):\n",
    "        meta = self.content_lines[0]\n",
    "        self.num_polygon = int(meta.split(' ')[-1].strip())\n",
    "        polygon_list = []\n",
    "        try:\n",
    "            for i in range(self.num_polygon):\n",
    "                self._ptr_advance()\n",
    "                polygon_meta = self._ptr_line_content()\n",
    "                _, num_points = self._parse_polygon_meta(polygon_meta)\n",
    "                point_list = self._parse_polygon_info(num_points)\n",
    "                if len(point_list) > 2:\n",
    "                    polygon_list.append(point_list)\n",
    "        except IOError as ioe:\n",
    "            print('Error: ', ioe)\n",
    "            exit()\n",
    "\n",
    "        return polygon_list"
   ]
  },
  {
   "cell_type": "code",
   "execution_count": null,
   "metadata": {},
   "outputs": [
    {
     "name": "stdout",
     "output_type": "stream",
     "text": [
      "/media/yeeef/Seagate Expansion Drive/training_data/selected_images_1_camera_polygon/29/image/color_depth_log/0.png\n"
     ]
    }
   ],
   "source": [
    "for label_log in label_log_files[:1]:\n",
    "    match = re.search(LOG_PATTERN, label_log.name)\n",
    "    log_id = int(match.group(1))\n",
    "    content_lines = open(label_log.path).readlines()\n",
    "    log_parser = LogFile(log_id, content_lines)\n",
    "    polygon_list = log_parser.parse_content()\n",
    "    img_path = path.join(path.dirname(label_log.path), '{}.png'.format(log_id))\n",
    "    print(img_path)\n",
    "    img = cv2.imread(img_path)\n",
    "    label = np.zeros([img.shape[0], img.shape[1]])\n",
    "    cv2.fillConvexPoly(img, polygon_list[0], (255, 255, 255))\n",
    "    print(img)\n",
    "    print(polygon_list)"
   ]
  },
  {
   "cell_type": "code",
   "execution_count": 10,
   "metadata": {},
   "outputs": [
    {
     "data": {
      "text/plain": [
       "['0.exr',\n",
       " '0.log',\n",
       " '0.png',\n",
       " '1.exr',\n",
       " '1.log',\n",
       " '1.png',\n",
       " '2.exr',\n",
       " '2.log',\n",
       " '2.png',\n",
       " '3.exr',\n",
       " '3.log',\n",
       " '3.png',\n",
       " '4.exr',\n",
       " '4.log',\n",
       " '4.png',\n",
       " 'camera_params.log',\n",
       " 'check_episolar',\n",
       " 'controlPoints.csv']"
      ]
     },
     "execution_count": 10,
     "metadata": {},
     "output_type": "execute_result"
    }
   ],
   "source": [
    "os.listdir(log_dir)"
   ]
  },
  {
   "cell_type": "code",
   "execution_count": 7,
   "metadata": {},
   "outputs": [
    {
     "data": {
      "text/plain": [
       "['crmeta.db',\n",
       " 'image',\n",
       " 'IMG_8279.JPG',\n",
       " 'IMG_8280.JPG',\n",
       " 'IMG_8281.JPG',\n",
       " 'IMG_8282.JPG',\n",
       " 'IMG_8283.JPG',\n",
       " 'RealCapture']"
      ]
     },
     "execution_count": 7,
     "metadata": {},
     "output_type": "execute_result"
    }
   ],
   "source": [
    "os.listdir(demo_group_dir.path)"
   ]
  },
  {
   "cell_type": "code",
   "execution_count": 20,
   "metadata": {},
   "outputs": [],
   "source": [
    "## rename mvsnet output dir\n",
    "\n",
    "dataset_dir = '/data3/lyf/MVSNET/mvsnet_test/standard_dataset/illumination_part1_adaptives'\n",
    "result_dir = '/data3/lyf/MVSNET/mvsnet_test/results/illumination_part1_adaptives'\n",
    "new_result_dir = '/data3/lyf/MVSNET/mvsnet_test/results/new_illumination_part1_adaptives'"
   ]
  },
  {
   "cell_type": "code",
   "execution_count": 21,
   "metadata": {},
   "outputs": [],
   "source": [
    "dataset_groups = sorted(os.listdir(dataset_dir), key=int)\n",
    "result_groups = os.listdir(result_dir)\n",
    "result_groups = [group for group in result_groups if 'log' not in group]\n",
    "result_groups = sorted(result_groups, key=int)"
   ]
  },
  {
   "cell_type": "code",
   "execution_count": 22,
   "metadata": {},
   "outputs": [],
   "source": [
    "assert len(result_groups) == len(dataset_groups)"
   ]
  },
  {
   "cell_type": "code",
   "execution_count": 23,
   "metadata": {},
   "outputs": [],
   "source": [
    "idx_mapping = dict(zip(result_groups, dataset_groups))"
   ]
  },
  {
   "cell_type": "code",
   "execution_count": 24,
   "metadata": {},
   "outputs": [
    {
     "name": "stdout",
     "output_type": "stream",
     "text": [
      "{'0': '1', '1': '2', '2': '4', '3': '5', '4': '6', '5': '7', '6': '8', '7': '9', '8': '12', '9': '13', '10': '14', '11': '17', '12': '19', '13': '20', '14': '22', '15': '24', '16': '25', '17': '26', '18': '27', '19': '28', '20': '29', '21': '31', '22': '32', '23': '33', '24': '34', '25': '36', '26': '39', '27': '42', '28': '43', '29': '44', '30': '45', '31': '46', '32': '47', '33': '48', '34': '49', '35': '50', '36': '51', '37': '52', '38': '53', '39': '54', '40': '55', '41': '56', '42': '57', '43': '58', '44': '59', '45': '60', '46': '64', '47': '65', '48': '66', '49': '68', '50': '69', '51': '70', '52': '73', '53': '74', '54': '76', '55': '77', '56': '78', '57': '79', '58': '81', '59': '82', '60': '85', '61': '86', '62': '88', '63': '89', '64': '90', '65': '91', '66': '93', '67': '94', '68': '95', '69': '96', '70': '97', '71': '99', '72': '100'}\n"
     ]
    }
   ],
   "source": [
    "print(idx_mapping)\n",
    "for group in result_groups:\n",
    "    if group in idx_mapping:\n",
    "        shutil.move(path.join(result_dir, group), path.join(new_result_dir, idx_mapping[group]))\n",
    "        \n",
    "shutil.rmtree(result_dir)\n",
    "shutil.move(new_result_dir, result_dir)"
   ]
  },
  {
   "cell_type": "code",
   "execution_count": null,
   "metadata": {},
   "outputs": [],
   "source": []
  }
 ],
 "metadata": {
  "kernelspec": {
   "display_name": "Python [conda env:tf] *",
   "language": "python",
   "name": "conda-env-tf-py"
  },
  "language_info": {
   "codemirror_mode": {
    "name": "ipython",
    "version": 3
   },
   "file_extension": ".py",
   "mimetype": "text/x-python",
   "name": "python",
   "nbconvert_exporter": "python",
   "pygments_lexer": "ipython3",
   "version": "3.6.8"
  }
 },
 "nbformat": 4,
 "nbformat_minor": 2
}
